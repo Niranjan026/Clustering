{
 "cells": [
  {
   "cell_type": "markdown",
   "metadata": {},
   "source": [
    "# Clustering: Individual Assignment"
   ]
  },
  {
   "cell_type": "code",
   "execution_count": 1,
   "metadata": {
    "ExecuteTime": {
     "end_time": "2020-03-12T07:08:06.107285Z",
     "start_time": "2020-03-12T07:08:04.262327Z"
    }
   },
   "outputs": [],
   "source": [
    "import numpy as np\n",
    "import pandas as pd\n",
    "from matplotlib import pyplot as plt\n",
    "import matplotlib.cm as cm\n",
    "import seaborn as sns\n",
    "from sklearn.cluster import KMeans \n",
    "from sklearn.datasets import make_blobs\n",
    "from sklearn.cluster import KMeans\n",
    "from sklearn.metrics import silhouette_samples, silhouette_score\n",
    "sns.set(color_codes=True)\n",
    "%matplotlib inline \n",
    "sns.set_palette(\"deep\")\n"
   ]
  },
  {
   "cell_type": "code",
   "execution_count": 2,
   "metadata": {
    "ExecuteTime": {
     "end_time": "2020-03-12T07:11:04.723452Z",
     "start_time": "2020-03-12T07:11:04.711697Z"
    }
   },
   "outputs": [],
   "source": [
    "import os"
   ]
  },
  {
   "cell_type": "code",
   "execution_count": 3,
   "metadata": {},
   "outputs": [
    {
     "name": "stdout",
     "output_type": "stream",
     "text": [
      "C:\\Users\\niranja.dhavan\\Anaconda3\\lib\\os.py\n"
     ]
    }
   ],
   "source": [
    "print(os.__file__)"
   ]
  },
  {
   "cell_type": "code",
   "execution_count": 4,
   "metadata": {},
   "outputs": [
    {
     "data": {
      "text/plain": [
       "'C:\\\\Users\\\\niranja.dhavan\\\\Desktop\\\\Data Mining\\\\Individual Assignment'"
      ]
     },
     "execution_count": 4,
     "metadata": {},
     "output_type": "execute_result"
    }
   ],
   "source": [
    "pwd"
   ]
  },
  {
   "cell_type": "markdown",
   "metadata": {},
   "source": [
    "## 1) Read the data and do exploratory data analysis. Describe the data briefly."
   ]
  },
  {
   "cell_type": "code",
   "execution_count": 5,
   "metadata": {
    "ExecuteTime": {
     "end_time": "2020-03-12T07:11:21.953490Z",
     "start_time": "2020-03-12T07:11:21.912094Z"
    }
   },
   "outputs": [
    {
     "data": {
      "text/html": [
       "<div>\n",
       "<style scoped>\n",
       "    .dataframe tbody tr th:only-of-type {\n",
       "        vertical-align: middle;\n",
       "    }\n",
       "\n",
       "    .dataframe tbody tr th {\n",
       "        vertical-align: top;\n",
       "    }\n",
       "\n",
       "    .dataframe thead th {\n",
       "        text-align: right;\n",
       "    }\n",
       "</style>\n",
       "<table border=\"1\" class=\"dataframe\">\n",
       "  <thead>\n",
       "    <tr style=\"text-align: right;\">\n",
       "      <th></th>\n",
       "      <th>spending</th>\n",
       "      <th>advance_payments</th>\n",
       "      <th>probability_of_full_payment</th>\n",
       "      <th>current_balance</th>\n",
       "      <th>credit_limit</th>\n",
       "      <th>min_payment_amt</th>\n",
       "      <th>max_spent_in_single_shopping</th>\n",
       "    </tr>\n",
       "  </thead>\n",
       "  <tbody>\n",
       "    <tr>\n",
       "      <th>0</th>\n",
       "      <td>19.94</td>\n",
       "      <td>16.92</td>\n",
       "      <td>0.8752</td>\n",
       "      <td>6.675</td>\n",
       "      <td>3.763</td>\n",
       "      <td>3.252</td>\n",
       "      <td>6.550</td>\n",
       "    </tr>\n",
       "    <tr>\n",
       "      <th>1</th>\n",
       "      <td>15.99</td>\n",
       "      <td>14.89</td>\n",
       "      <td>0.9064</td>\n",
       "      <td>5.363</td>\n",
       "      <td>3.582</td>\n",
       "      <td>3.336</td>\n",
       "      <td>5.144</td>\n",
       "    </tr>\n",
       "    <tr>\n",
       "      <th>2</th>\n",
       "      <td>18.95</td>\n",
       "      <td>16.42</td>\n",
       "      <td>0.8829</td>\n",
       "      <td>6.248</td>\n",
       "      <td>3.755</td>\n",
       "      <td>3.368</td>\n",
       "      <td>6.148</td>\n",
       "    </tr>\n",
       "    <tr>\n",
       "      <th>3</th>\n",
       "      <td>10.83</td>\n",
       "      <td>12.96</td>\n",
       "      <td>0.8099</td>\n",
       "      <td>5.278</td>\n",
       "      <td>2.641</td>\n",
       "      <td>5.182</td>\n",
       "      <td>5.185</td>\n",
       "    </tr>\n",
       "    <tr>\n",
       "      <th>4</th>\n",
       "      <td>17.99</td>\n",
       "      <td>15.86</td>\n",
       "      <td>0.8992</td>\n",
       "      <td>5.890</td>\n",
       "      <td>3.694</td>\n",
       "      <td>2.068</td>\n",
       "      <td>5.837</td>\n",
       "    </tr>\n",
       "    <tr>\n",
       "      <th>5</th>\n",
       "      <td>12.70</td>\n",
       "      <td>13.41</td>\n",
       "      <td>0.8874</td>\n",
       "      <td>5.183</td>\n",
       "      <td>3.091</td>\n",
       "      <td>8.456</td>\n",
       "      <td>5.000</td>\n",
       "    </tr>\n",
       "    <tr>\n",
       "      <th>6</th>\n",
       "      <td>12.02</td>\n",
       "      <td>13.33</td>\n",
       "      <td>0.8503</td>\n",
       "      <td>5.350</td>\n",
       "      <td>2.810</td>\n",
       "      <td>4.271</td>\n",
       "      <td>5.308</td>\n",
       "    </tr>\n",
       "    <tr>\n",
       "      <th>7</th>\n",
       "      <td>13.74</td>\n",
       "      <td>14.05</td>\n",
       "      <td>0.8744</td>\n",
       "      <td>5.482</td>\n",
       "      <td>3.114</td>\n",
       "      <td>2.932</td>\n",
       "      <td>4.825</td>\n",
       "    </tr>\n",
       "    <tr>\n",
       "      <th>8</th>\n",
       "      <td>18.17</td>\n",
       "      <td>16.26</td>\n",
       "      <td>0.8637</td>\n",
       "      <td>6.271</td>\n",
       "      <td>3.512</td>\n",
       "      <td>2.853</td>\n",
       "      <td>6.273</td>\n",
       "    </tr>\n",
       "    <tr>\n",
       "      <th>9</th>\n",
       "      <td>11.23</td>\n",
       "      <td>12.88</td>\n",
       "      <td>0.8511</td>\n",
       "      <td>5.140</td>\n",
       "      <td>2.795</td>\n",
       "      <td>4.325</td>\n",
       "      <td>5.003</td>\n",
       "    </tr>\n",
       "  </tbody>\n",
       "</table>\n",
       "</div>"
      ],
      "text/plain": [
       "   spending  advance_payments  probability_of_full_payment  current_balance  \\\n",
       "0     19.94             16.92                       0.8752            6.675   \n",
       "1     15.99             14.89                       0.9064            5.363   \n",
       "2     18.95             16.42                       0.8829            6.248   \n",
       "3     10.83             12.96                       0.8099            5.278   \n",
       "4     17.99             15.86                       0.8992            5.890   \n",
       "5     12.70             13.41                       0.8874            5.183   \n",
       "6     12.02             13.33                       0.8503            5.350   \n",
       "7     13.74             14.05                       0.8744            5.482   \n",
       "8     18.17             16.26                       0.8637            6.271   \n",
       "9     11.23             12.88                       0.8511            5.140   \n",
       "\n",
       "   credit_limit  min_payment_amt  max_spent_in_single_shopping  \n",
       "0         3.763            3.252                         6.550  \n",
       "1         3.582            3.336                         5.144  \n",
       "2         3.755            3.368                         6.148  \n",
       "3         2.641            5.182                         5.185  \n",
       "4         3.694            2.068                         5.837  \n",
       "5         3.091            8.456                         5.000  \n",
       "6         2.810            4.271                         5.308  \n",
       "7         3.114            2.932                         4.825  \n",
       "8         3.512            2.853                         6.273  \n",
       "9         2.795            4.325                         5.003  "
      ]
     },
     "execution_count": 5,
     "metadata": {},
     "output_type": "execute_result"
    }
   ],
   "source": [
    "df = pd.read_csv('bank_marketing_part1_Data.csv')\n",
    "df.head(10)"
   ]
  },
  {
   "cell_type": "markdown",
   "metadata": {},
   "source": [
    "Data Dictionary for Market Segmentation"
   ]
  },
  {
   "cell_type": "markdown",
   "metadata": {},
   "source": [
    "The following is the explanation of the dataframe loaded in the previous step.\n",
    "\n",
    "\n",
    "1. spending: Amount spent by the customer per month (in 1000s)\n",
    "\n",
    "2. advance_payments: Amount paid by the customer in advance by cash (in 100s)\n",
    "\n",
    "3. probability_of_full_payment: Probability of payment done in full by the customer to the bank\n",
    "\n",
    "4. current_balance: Balance amount left in the account to make purchases (in 1000s)\n",
    "\n",
    "5. credit_limit: Limit of the amount in credit card (10000s)\n",
    "\n",
    "6. min_payment_amt : minimum paid by the customer while making payments for purchases made monthly (in 100s)\n",
    "\n",
    "7. max_spent_in_single_shopping: Maximum amount spent in one purchase (in 1000s)"
   ]
  },
  {
   "cell_type": "code",
   "execution_count": 6,
   "metadata": {},
   "outputs": [
    {
     "data": {
      "text/html": [
       "<div>\n",
       "<style scoped>\n",
       "    .dataframe tbody tr th:only-of-type {\n",
       "        vertical-align: middle;\n",
       "    }\n",
       "\n",
       "    .dataframe tbody tr th {\n",
       "        vertical-align: top;\n",
       "    }\n",
       "\n",
       "    .dataframe thead th {\n",
       "        text-align: right;\n",
       "    }\n",
       "</style>\n",
       "<table border=\"1\" class=\"dataframe\">\n",
       "  <thead>\n",
       "    <tr style=\"text-align: right;\">\n",
       "      <th></th>\n",
       "      <th>spending</th>\n",
       "      <th>advance_payments</th>\n",
       "      <th>probability_of_full_payment</th>\n",
       "      <th>current_balance</th>\n",
       "      <th>credit_limit</th>\n",
       "      <th>min_payment_amt</th>\n",
       "      <th>max_spent_in_single_shopping</th>\n",
       "    </tr>\n",
       "  </thead>\n",
       "  <tbody>\n",
       "    <tr>\n",
       "      <th>200</th>\n",
       "      <td>14.88</td>\n",
       "      <td>14.57</td>\n",
       "      <td>0.8811</td>\n",
       "      <td>5.554</td>\n",
       "      <td>3.333</td>\n",
       "      <td>1.018</td>\n",
       "      <td>4.956</td>\n",
       "    </tr>\n",
       "    <tr>\n",
       "      <th>201</th>\n",
       "      <td>17.08</td>\n",
       "      <td>15.38</td>\n",
       "      <td>0.9079</td>\n",
       "      <td>5.832</td>\n",
       "      <td>3.683</td>\n",
       "      <td>2.956</td>\n",
       "      <td>5.484</td>\n",
       "    </tr>\n",
       "    <tr>\n",
       "      <th>202</th>\n",
       "      <td>14.80</td>\n",
       "      <td>14.52</td>\n",
       "      <td>0.8823</td>\n",
       "      <td>5.656</td>\n",
       "      <td>3.288</td>\n",
       "      <td>3.112</td>\n",
       "      <td>5.309</td>\n",
       "    </tr>\n",
       "    <tr>\n",
       "      <th>203</th>\n",
       "      <td>11.55</td>\n",
       "      <td>13.10</td>\n",
       "      <td>0.8455</td>\n",
       "      <td>5.167</td>\n",
       "      <td>2.845</td>\n",
       "      <td>6.715</td>\n",
       "      <td>4.956</td>\n",
       "    </tr>\n",
       "    <tr>\n",
       "      <th>204</th>\n",
       "      <td>16.41</td>\n",
       "      <td>15.25</td>\n",
       "      <td>0.8866</td>\n",
       "      <td>5.718</td>\n",
       "      <td>3.525</td>\n",
       "      <td>4.217</td>\n",
       "      <td>5.618</td>\n",
       "    </tr>\n",
       "    <tr>\n",
       "      <th>205</th>\n",
       "      <td>13.89</td>\n",
       "      <td>14.02</td>\n",
       "      <td>0.8880</td>\n",
       "      <td>5.439</td>\n",
       "      <td>3.199</td>\n",
       "      <td>3.986</td>\n",
       "      <td>4.738</td>\n",
       "    </tr>\n",
       "    <tr>\n",
       "      <th>206</th>\n",
       "      <td>16.77</td>\n",
       "      <td>15.62</td>\n",
       "      <td>0.8638</td>\n",
       "      <td>5.927</td>\n",
       "      <td>3.438</td>\n",
       "      <td>4.920</td>\n",
       "      <td>5.795</td>\n",
       "    </tr>\n",
       "    <tr>\n",
       "      <th>207</th>\n",
       "      <td>14.03</td>\n",
       "      <td>14.16</td>\n",
       "      <td>0.8796</td>\n",
       "      <td>5.438</td>\n",
       "      <td>3.201</td>\n",
       "      <td>1.717</td>\n",
       "      <td>5.001</td>\n",
       "    </tr>\n",
       "    <tr>\n",
       "      <th>208</th>\n",
       "      <td>16.12</td>\n",
       "      <td>15.00</td>\n",
       "      <td>0.9000</td>\n",
       "      <td>5.709</td>\n",
       "      <td>3.485</td>\n",
       "      <td>2.270</td>\n",
       "      <td>5.443</td>\n",
       "    </tr>\n",
       "    <tr>\n",
       "      <th>209</th>\n",
       "      <td>15.57</td>\n",
       "      <td>15.15</td>\n",
       "      <td>0.8527</td>\n",
       "      <td>5.920</td>\n",
       "      <td>3.231</td>\n",
       "      <td>2.640</td>\n",
       "      <td>5.879</td>\n",
       "    </tr>\n",
       "  </tbody>\n",
       "</table>\n",
       "</div>"
      ],
      "text/plain": [
       "     spending  advance_payments  probability_of_full_payment  current_balance  \\\n",
       "200     14.88             14.57                       0.8811            5.554   \n",
       "201     17.08             15.38                       0.9079            5.832   \n",
       "202     14.80             14.52                       0.8823            5.656   \n",
       "203     11.55             13.10                       0.8455            5.167   \n",
       "204     16.41             15.25                       0.8866            5.718   \n",
       "205     13.89             14.02                       0.8880            5.439   \n",
       "206     16.77             15.62                       0.8638            5.927   \n",
       "207     14.03             14.16                       0.8796            5.438   \n",
       "208     16.12             15.00                       0.9000            5.709   \n",
       "209     15.57             15.15                       0.8527            5.920   \n",
       "\n",
       "     credit_limit  min_payment_amt  max_spent_in_single_shopping  \n",
       "200         3.333            1.018                         4.956  \n",
       "201         3.683            2.956                         5.484  \n",
       "202         3.288            3.112                         5.309  \n",
       "203         2.845            6.715                         4.956  \n",
       "204         3.525            4.217                         5.618  \n",
       "205         3.199            3.986                         4.738  \n",
       "206         3.438            4.920                         5.795  \n",
       "207         3.201            1.717                         5.001  \n",
       "208         3.485            2.270                         5.443  \n",
       "209         3.231            2.640                         5.879  "
      ]
     },
     "execution_count": 6,
     "metadata": {},
     "output_type": "execute_result"
    }
   ],
   "source": [
    "df.tail(10)"
   ]
  },
  {
   "cell_type": "code",
   "execution_count": 7,
   "metadata": {},
   "outputs": [
    {
     "name": "stdout",
     "output_type": "stream",
     "text": [
      "<class 'pandas.core.frame.DataFrame'>\n",
      "RangeIndex: 210 entries, 0 to 209\n",
      "Data columns (total 7 columns):\n",
      " #   Column                        Non-Null Count  Dtype  \n",
      "---  ------                        --------------  -----  \n",
      " 0   spending                      210 non-null    float64\n",
      " 1   advance_payments              210 non-null    float64\n",
      " 2   probability_of_full_payment   210 non-null    float64\n",
      " 3   current_balance               210 non-null    float64\n",
      " 4   credit_limit                  210 non-null    float64\n",
      " 5   min_payment_amt               210 non-null    float64\n",
      " 6   max_spent_in_single_shopping  210 non-null    float64\n",
      "dtypes: float64(7)\n",
      "memory usage: 11.6 KB\n"
     ]
    }
   ],
   "source": [
    "df.info()"
   ]
  },
  {
   "cell_type": "code",
   "execution_count": 8,
   "metadata": {},
   "outputs": [
    {
     "data": {
      "text/plain": [
       "(210, 7)"
      ]
     },
     "execution_count": 8,
     "metadata": {},
     "output_type": "execute_result"
    }
   ],
   "source": [
    "df.shape"
   ]
  },
  {
   "cell_type": "code",
   "execution_count": 9,
   "metadata": {},
   "outputs": [
    {
     "data": {
      "text/plain": [
       "spending                        0\n",
       "advance_payments                0\n",
       "probability_of_full_payment     0\n",
       "current_balance                 0\n",
       "credit_limit                    0\n",
       "min_payment_amt                 0\n",
       "max_spent_in_single_shopping    0\n",
       "dtype: int64"
      ]
     },
     "execution_count": 9,
     "metadata": {},
     "output_type": "execute_result"
    }
   ],
   "source": [
    "df.isnull().sum()"
   ]
  },
  {
   "cell_type": "code",
   "execution_count": 10,
   "metadata": {},
   "outputs": [
    {
     "data": {
      "text/html": [
       "<div>\n",
       "<style scoped>\n",
       "    .dataframe tbody tr th:only-of-type {\n",
       "        vertical-align: middle;\n",
       "    }\n",
       "\n",
       "    .dataframe tbody tr th {\n",
       "        vertical-align: top;\n",
       "    }\n",
       "\n",
       "    .dataframe thead th {\n",
       "        text-align: right;\n",
       "    }\n",
       "</style>\n",
       "<table border=\"1\" class=\"dataframe\">\n",
       "  <thead>\n",
       "    <tr style=\"text-align: right;\">\n",
       "      <th></th>\n",
       "      <th>spending</th>\n",
       "      <th>advance_payments</th>\n",
       "      <th>probability_of_full_payment</th>\n",
       "      <th>current_balance</th>\n",
       "      <th>credit_limit</th>\n",
       "      <th>min_payment_amt</th>\n",
       "      <th>max_spent_in_single_shopping</th>\n",
       "    </tr>\n",
       "  </thead>\n",
       "  <tbody>\n",
       "  </tbody>\n",
       "</table>\n",
       "</div>"
      ],
      "text/plain": [
       "Empty DataFrame\n",
       "Columns: [spending, advance_payments, probability_of_full_payment, current_balance, credit_limit, min_payment_amt, max_spent_in_single_shopping]\n",
       "Index: []"
      ]
     },
     "execution_count": 10,
     "metadata": {},
     "output_type": "execute_result"
    }
   ],
   "source": [
    "duplicate = df[df.duplicated()] \n",
    "duplicate"
   ]
  },
  {
   "cell_type": "code",
   "execution_count": 11,
   "metadata": {},
   "outputs": [
    {
     "data": {
      "text/html": [
       "<div>\n",
       "<style scoped>\n",
       "    .dataframe tbody tr th:only-of-type {\n",
       "        vertical-align: middle;\n",
       "    }\n",
       "\n",
       "    .dataframe tbody tr th {\n",
       "        vertical-align: top;\n",
       "    }\n",
       "\n",
       "    .dataframe thead th {\n",
       "        text-align: right;\n",
       "    }\n",
       "</style>\n",
       "<table border=\"1\" class=\"dataframe\">\n",
       "  <thead>\n",
       "    <tr style=\"text-align: right;\">\n",
       "      <th></th>\n",
       "      <th>count</th>\n",
       "      <th>mean</th>\n",
       "      <th>std</th>\n",
       "      <th>min</th>\n",
       "      <th>25%</th>\n",
       "      <th>50%</th>\n",
       "      <th>75%</th>\n",
       "      <th>max</th>\n",
       "    </tr>\n",
       "  </thead>\n",
       "  <tbody>\n",
       "    <tr>\n",
       "      <th>spending</th>\n",
       "      <td>210.0</td>\n",
       "      <td>14.847524</td>\n",
       "      <td>2.909699</td>\n",
       "      <td>10.5900</td>\n",
       "      <td>12.27000</td>\n",
       "      <td>14.35500</td>\n",
       "      <td>17.305000</td>\n",
       "      <td>21.1800</td>\n",
       "    </tr>\n",
       "    <tr>\n",
       "      <th>advance_payments</th>\n",
       "      <td>210.0</td>\n",
       "      <td>14.559286</td>\n",
       "      <td>1.305959</td>\n",
       "      <td>12.4100</td>\n",
       "      <td>13.45000</td>\n",
       "      <td>14.32000</td>\n",
       "      <td>15.715000</td>\n",
       "      <td>17.2500</td>\n",
       "    </tr>\n",
       "    <tr>\n",
       "      <th>probability_of_full_payment</th>\n",
       "      <td>210.0</td>\n",
       "      <td>0.870999</td>\n",
       "      <td>0.023629</td>\n",
       "      <td>0.8081</td>\n",
       "      <td>0.85690</td>\n",
       "      <td>0.87345</td>\n",
       "      <td>0.887775</td>\n",
       "      <td>0.9183</td>\n",
       "    </tr>\n",
       "    <tr>\n",
       "      <th>current_balance</th>\n",
       "      <td>210.0</td>\n",
       "      <td>5.628533</td>\n",
       "      <td>0.443063</td>\n",
       "      <td>4.8990</td>\n",
       "      <td>5.26225</td>\n",
       "      <td>5.52350</td>\n",
       "      <td>5.979750</td>\n",
       "      <td>6.6750</td>\n",
       "    </tr>\n",
       "    <tr>\n",
       "      <th>credit_limit</th>\n",
       "      <td>210.0</td>\n",
       "      <td>3.258605</td>\n",
       "      <td>0.377714</td>\n",
       "      <td>2.6300</td>\n",
       "      <td>2.94400</td>\n",
       "      <td>3.23700</td>\n",
       "      <td>3.561750</td>\n",
       "      <td>4.0330</td>\n",
       "    </tr>\n",
       "    <tr>\n",
       "      <th>min_payment_amt</th>\n",
       "      <td>210.0</td>\n",
       "      <td>3.700201</td>\n",
       "      <td>1.503557</td>\n",
       "      <td>0.7651</td>\n",
       "      <td>2.56150</td>\n",
       "      <td>3.59900</td>\n",
       "      <td>4.768750</td>\n",
       "      <td>8.4560</td>\n",
       "    </tr>\n",
       "    <tr>\n",
       "      <th>max_spent_in_single_shopping</th>\n",
       "      <td>210.0</td>\n",
       "      <td>5.408071</td>\n",
       "      <td>0.491480</td>\n",
       "      <td>4.5190</td>\n",
       "      <td>5.04500</td>\n",
       "      <td>5.22300</td>\n",
       "      <td>5.877000</td>\n",
       "      <td>6.5500</td>\n",
       "    </tr>\n",
       "  </tbody>\n",
       "</table>\n",
       "</div>"
      ],
      "text/plain": [
       "                              count       mean       std      min       25%  \\\n",
       "spending                      210.0  14.847524  2.909699  10.5900  12.27000   \n",
       "advance_payments              210.0  14.559286  1.305959  12.4100  13.45000   \n",
       "probability_of_full_payment   210.0   0.870999  0.023629   0.8081   0.85690   \n",
       "current_balance               210.0   5.628533  0.443063   4.8990   5.26225   \n",
       "credit_limit                  210.0   3.258605  0.377714   2.6300   2.94400   \n",
       "min_payment_amt               210.0   3.700201  1.503557   0.7651   2.56150   \n",
       "max_spent_in_single_shopping  210.0   5.408071  0.491480   4.5190   5.04500   \n",
       "\n",
       "                                   50%        75%      max  \n",
       "spending                      14.35500  17.305000  21.1800  \n",
       "advance_payments              14.32000  15.715000  17.2500  \n",
       "probability_of_full_payment    0.87345   0.887775   0.9183  \n",
       "current_balance                5.52350   5.979750   6.6750  \n",
       "credit_limit                   3.23700   3.561750   4.0330  \n",
       "min_payment_amt                3.59900   4.768750   8.4560  \n",
       "max_spent_in_single_shopping   5.22300   5.877000   6.5500  "
      ]
     },
     "execution_count": 11,
     "metadata": {},
     "output_type": "execute_result"
    }
   ],
   "source": [
    "df.describe().T"
   ]
  },
  {
   "cell_type": "code",
   "execution_count": 12,
   "metadata": {},
   "outputs": [],
   "source": [
    "from pylab import rcParams"
   ]
  },
  {
   "cell_type": "code",
   "execution_count": 13,
   "metadata": {},
   "outputs": [
    {
     "name": "stderr",
     "output_type": "stream",
     "text": [
      "C:\\Users\\niranja.dhavan\\Anaconda3\\lib\\site-packages\\pandas\\plotting\\_matplotlib\\tools.py:298: MatplotlibDeprecationWarning: \n",
      "The rowNum attribute was deprecated in Matplotlib 3.2 and will be removed two minor releases later. Use ax.get_subplotspec().rowspan.start instead.\n",
      "  layout[ax.rowNum, ax.colNum] = ax.get_visible()\n",
      "C:\\Users\\niranja.dhavan\\Anaconda3\\lib\\site-packages\\pandas\\plotting\\_matplotlib\\tools.py:298: MatplotlibDeprecationWarning: \n",
      "The colNum attribute was deprecated in Matplotlib 3.2 and will be removed two minor releases later. Use ax.get_subplotspec().colspan.start instead.\n",
      "  layout[ax.rowNum, ax.colNum] = ax.get_visible()\n",
      "C:\\Users\\niranja.dhavan\\Anaconda3\\lib\\site-packages\\pandas\\plotting\\_matplotlib\\tools.py:304: MatplotlibDeprecationWarning: \n",
      "The rowNum attribute was deprecated in Matplotlib 3.2 and will be removed two minor releases later. Use ax.get_subplotspec().rowspan.start instead.\n",
      "  if not layout[ax.rowNum + 1, ax.colNum]:\n",
      "C:\\Users\\niranja.dhavan\\Anaconda3\\lib\\site-packages\\pandas\\plotting\\_matplotlib\\tools.py:304: MatplotlibDeprecationWarning: \n",
      "The colNum attribute was deprecated in Matplotlib 3.2 and will be removed two minor releases later. Use ax.get_subplotspec().colspan.start instead.\n",
      "  if not layout[ax.rowNum + 1, ax.colNum]:\n"
     ]
    },
    {
     "data": {
      "image/png": "[encoded data removed]",
      "text/plain": [
       "<Figure size 1440x1440 with 9 Axes>"
      ]
     },
     "metadata": {
      "needs_background": "light"
     },
     "output_type": "display_data"
    }
   ],
   "source": [
    "rcParams['figure.figsize'] = 20,20\n",
    "\n",
    "df.hist();"
   ]
  },
  {
   "cell_type": "code",
   "execution_count": 14,
   "metadata": {},
   "outputs": [
    {
     "data": {
      "image/png": "[encoded data removed]",
      "text/plain": [
       "<Figure size 1440x2880 with 14 Axes>"
      ]
     },
     "metadata": {
      "needs_background": "light"
     },
     "output_type": "display_data"
    }
   ],
   "source": [
    "fig_dims = (20,40)\n",
    "fig, axs = plt.subplots(nrows=7, ncols=2, figsize=fig_dims)\n",
    "\n",
    "for col, i in zip(df.columns,np.arange(12)):\n",
    "    sns.distplot(df[col], ax=axs[i,0])\n",
    "    sns.boxplot(df[col], ax=axs[i,1])"
   ]
  },
  {
   "cell_type": "markdown",
   "metadata": {},
   "source": [
    "## 2)  Do you think scaling is necessary for clustering in this case? Justify"
   ]
  },
  {
   "cell_type": "code",
   "execution_count": 15,
   "metadata": {},
   "outputs": [
    {
     "data": {
      "image/png": "[encoded data removed]",
      "text/plain": [
       "<Figure size 1584x720 with 1 Axes>"
      ]
     },
     "metadata": {
      "needs_background": "light"
     },
     "output_type": "display_data"
    }
   ],
   "source": [
    "plt.figure(figsize=(22,10))\n",
    "df.boxplot();"
   ]
  },
  {
   "cell_type": "markdown",
   "metadata": {},
   "source": [
    "Post viewing the data it was identified that Variables like Spending, Current balance & max spent in single shopping are in 1000’s. Whereas the Variables like Advance payments & Min payment amt & are in 100’s, Credit limit Variable is in 10000’s. Since all the variables are not on the same scale. We need to Scale the data."
   ]
  },
  {
   "cell_type": "code",
   "execution_count": 16,
   "metadata": {},
   "outputs": [],
   "source": [
    "from scipy.stats import zscore"
   ]
  },
  {
   "cell_type": "markdown",
   "metadata": {},
   "source": [
    "In this step we are importing the Standard Scaler function to scale the data (Computing Z Scores) StandardScaler scales the data by subtracting the observation from the mean of the variable and dividing it by the standard deviation of the variable."
   ]
  },
  {
   "cell_type": "markdown",
   "metadata": {},
   "source": [
    "# z = $\\frac{(x - \\mu)}{\\sigma}$\n",
    "\n",
    "###### Note: All the symbols follow the usual nomeclature."
   ]
  },
  {
   "cell_type": "code",
   "execution_count": 17,
   "metadata": {},
   "outputs": [
    {
     "data": {
      "text/html": [
       "<div>\n",
       "<style scoped>\n",
       "    .dataframe tbody tr th:only-of-type {\n",
       "        vertical-align: middle;\n",
       "    }\n",
       "\n",
       "    .dataframe tbody tr th {\n",
       "        vertical-align: top;\n",
       "    }\n",
       "\n",
       "    .dataframe thead th {\n",
       "        text-align: right;\n",
       "    }\n",
       "</style>\n",
       "<table border=\"1\" class=\"dataframe\">\n",
       "  <thead>\n",
       "    <tr style=\"text-align: right;\">\n",
       "      <th></th>\n",
       "      <th>spending</th>\n",
       "      <th>advance_payments</th>\n",
       "      <th>probability_of_full_payment</th>\n",
       "      <th>current_balance</th>\n",
       "      <th>credit_limit</th>\n",
       "      <th>min_payment_amt</th>\n",
       "      <th>max_spent_in_single_shopping</th>\n",
       "    </tr>\n",
       "  </thead>\n",
       "  <tbody>\n",
       "    <tr>\n",
       "      <th>0</th>\n",
       "      <td>1.754355</td>\n",
       "      <td>1.811968</td>\n",
       "      <td>0.178230</td>\n",
       "      <td>2.367533</td>\n",
       "      <td>1.338579</td>\n",
       "      <td>-0.298806</td>\n",
       "      <td>2.328998</td>\n",
       "    </tr>\n",
       "    <tr>\n",
       "      <th>1</th>\n",
       "      <td>0.393582</td>\n",
       "      <td>0.253840</td>\n",
       "      <td>1.501773</td>\n",
       "      <td>-0.600744</td>\n",
       "      <td>0.858236</td>\n",
       "      <td>-0.242805</td>\n",
       "      <td>-0.538582</td>\n",
       "    </tr>\n",
       "    <tr>\n",
       "      <th>2</th>\n",
       "      <td>1.413300</td>\n",
       "      <td>1.428192</td>\n",
       "      <td>0.504874</td>\n",
       "      <td>1.401485</td>\n",
       "      <td>1.317348</td>\n",
       "      <td>-0.221471</td>\n",
       "      <td>1.509107</td>\n",
       "    </tr>\n",
       "    <tr>\n",
       "      <th>3</th>\n",
       "      <td>-1.384034</td>\n",
       "      <td>-1.227533</td>\n",
       "      <td>-2.591878</td>\n",
       "      <td>-0.793049</td>\n",
       "      <td>-1.639017</td>\n",
       "      <td>0.987884</td>\n",
       "      <td>-0.454961</td>\n",
       "    </tr>\n",
       "    <tr>\n",
       "      <th>4</th>\n",
       "      <td>1.082581</td>\n",
       "      <td>0.998364</td>\n",
       "      <td>1.196340</td>\n",
       "      <td>0.591544</td>\n",
       "      <td>1.155464</td>\n",
       "      <td>-1.088154</td>\n",
       "      <td>0.874813</td>\n",
       "    </tr>\n",
       "  </tbody>\n",
       "</table>\n",
       "</div>"
      ],
      "text/plain": [
       "   spending  advance_payments  probability_of_full_payment  current_balance  \\\n",
       "0  1.754355          1.811968                     0.178230         2.367533   \n",
       "1  0.393582          0.253840                     1.501773        -0.600744   \n",
       "2  1.413300          1.428192                     0.504874         1.401485   \n",
       "3 -1.384034         -1.227533                    -2.591878        -0.793049   \n",
       "4  1.082581          0.998364                     1.196340         0.591544   \n",
       "\n",
       "   credit_limit  min_payment_amt  max_spent_in_single_shopping  \n",
       "0      1.338579        -0.298806                      2.328998  \n",
       "1      0.858236        -0.242805                     -0.538582  \n",
       "2      1.317348        -0.221471                      1.509107  \n",
       "3     -1.639017         0.987884                     -0.454961  \n",
       "4      1.155464        -1.088154                      0.874813  "
      ]
     },
     "execution_count": 17,
     "metadata": {},
     "output_type": "execute_result"
    }
   ],
   "source": [
    "data_scaled = df.apply(zscore)\n",
    "data_scaled.head()"
   ]
  },
  {
   "cell_type": "code",
   "execution_count": 18,
   "metadata": {},
   "outputs": [
    {
     "data": {
      "image/png": "[encoded data removed]",
      "text/plain": [
       "<Figure size 1440x720 with 1 Axes>"
      ]
     },
     "metadata": {
      "needs_background": "light"
     },
     "output_type": "display_data"
    }
   ],
   "source": [
    "plt.figure(figsize=(20,10))\n",
    "data_scaled.boxplot();"
   ]
  },
  {
   "cell_type": "markdown",
   "metadata": {},
   "source": [
    "This is how the scaled data looks like. when all the variables are on the same scale."
   ]
  },
  {
   "cell_type": "markdown",
   "metadata": {},
   "source": [
    "## 3) Apply hierarchical clustering to scaled data. Identify the number of optimum clusters using Dendrogram and briefly describe them"
   ]
  },
  {
   "cell_type": "markdown",
   "metadata": {},
   "source": [
    "# Hierarchical Clustering"
   ]
  },
  {
   "cell_type": "markdown",
   "metadata": {},
   "source": [
    "In Clustering, we try to group the variables which are similar to each other. We measure the similarities with respect to distance measures."
   ]
  },
  {
   "cell_type": "markdown",
   "metadata": {},
   "source": [
    "#### Method 1: Performing Hierarchical Clustering with the 'scipy' package "
   ]
  },
  {
   "cell_type": "code",
   "execution_count": 19,
   "metadata": {
    "ExecuteTime": {
     "end_time": "2020-03-12T07:32:22.538334Z",
     "start_time": "2020-03-12T07:32:22.527801Z"
    }
   },
   "outputs": [],
   "source": [
    "from scipy.cluster.hierarchy import dendrogram, linkage"
   ]
  },
  {
   "cell_type": "markdown",
   "metadata": {},
   "source": [
    "Let us now try to cluster the data with the Euclidean distance and Ward's method for linkage."
   ]
  },
  {
   "cell_type": "code",
   "execution_count": 20,
   "metadata": {
    "ExecuteTime": {
     "end_time": "2020-03-12T07:41:22.568514Z",
     "start_time": "2020-03-12T07:41:22.557851Z"
    }
   },
   "outputs": [],
   "source": [
    "wardlink = linkage(data_scaled,method = 'ward',metric='euclidean')"
   ]
  },
  {
   "cell_type": "code",
   "execution_count": 21,
   "metadata": {
    "ExecuteTime": {
     "end_time": "2020-03-12T07:41:33.545934Z",
     "start_time": "2020-03-12T07:41:33.050422Z"
    }
   },
   "outputs": [
    {
     "data": {
      "text/plain": [
       "<matplotlib.lines.Line2D at 0x20ed2941288>"
      ]
     },
     "execution_count": 21,
     "metadata": {},
     "output_type": "execute_result"
    },
    {
     "data": {
      "image/png": "[encoded data removed]",
      "text/plain": [
       "<Figure size 1440x1440 with 1 Axes>"
      ]
     },
     "metadata": {
      "needs_background": "light"
     },
     "output_type": "display_data"
    }
   ],
   "source": [
    "warddend = dendrogram(wardlink)\n",
    "plt.axhline(22)"
   ]
  },
  {
   "cell_type": "code",
   "execution_count": 22,
   "metadata": {},
   "outputs": [
    {
     "data": {
      "text/plain": [
       "<matplotlib.lines.Line2D at 0x20ed288f288>"
      ]
     },
     "execution_count": 22,
     "metadata": {},
     "output_type": "execute_result"
    },
    {
     "data": {
      "image/png": "[encoded data removed]",
      "text/plain": [
       "<Figure size 1440x1440 with 1 Axes>"
      ]
     },
     "metadata": {
      "needs_background": "light"
     },
     "output_type": "display_data"
    }
   ],
   "source": [
    "warddend = dendrogram(wardlink)\n",
    "plt.axhline(9)"
   ]
  },
  {
   "cell_type": "code",
   "execution_count": 23,
   "metadata": {},
   "outputs": [
    {
     "data": {
      "text/plain": [
       "<matplotlib.lines.Line2D at 0x20ed28da248>"
      ]
     },
     "execution_count": 23,
     "metadata": {},
     "output_type": "execute_result"
    },
    {
     "data": {
      "image/png": "[encoded data removed]",
      "text/plain": [
       "<Figure size 1440x1440 with 1 Axes>"
      ]
     },
     "metadata": {
      "needs_background": "light"
     },
     "output_type": "display_data"
    }
   ],
   "source": [
    "warddend = dendrogram(wardlink)\n",
    "plt.axhline(9.7)"
   ]
  },
  {
   "cell_type": "markdown",
   "metadata": {},
   "source": [
    "Now that we have visualized the number of clusters, we need to cluster the data according to their similarity metrics.\n"
   ]
  },
  {
   "cell_type": "code",
   "execution_count": 24,
   "metadata": {
    "ExecuteTime": {
     "end_time": "2020-03-12T07:42:37.904307Z",
     "start_time": "2020-03-12T07:42:37.898744Z"
    }
   },
   "outputs": [],
   "source": [
    "from scipy.cluster.hierarchy import fcluster"
   ]
  },
  {
   "cell_type": "markdown",
   "metadata": {},
   "source": [
    "The above library helps us to extract the cluster numbers by looking at the dendrogram."
   ]
  },
  {
   "cell_type": "markdown",
   "metadata": {},
   "source": [
    "From the dendrogram, we see that 3 clusters are optimum. Thus, we are going to form 3 clusters based on the 'Distance' criterion in the fcluster package."
   ]
  },
  {
   "cell_type": "code",
   "execution_count": 25,
   "metadata": {
    "ExecuteTime": {
     "end_time": "2020-03-12T07:49:12.238345Z",
     "start_time": "2020-03-12T07:49:12.228912Z"
    }
   },
   "outputs": [
    {
     "data": {
      "text/plain": [
       "array([1, 3, 1, 2, 1, 2, 2, 3, 1, 2, 1, 3, 2, 1, 3, 2, 3, 2, 3, 2, 2, 2,\n",
       "       1, 2, 3, 1, 3, 2, 2, 2, 3, 2, 2, 3, 2, 2, 2, 2, 2, 1, 1, 3, 1, 1,\n",
       "       2, 2, 3, 1, 1, 1, 2, 1, 1, 1, 1, 1, 2, 2, 2, 1, 3, 2, 2, 3, 3, 1,\n",
       "       1, 3, 1, 2, 3, 2, 1, 1, 2, 1, 3, 2, 1, 3, 3, 3, 3, 1, 2, 3, 3, 1,\n",
       "       1, 2, 3, 1, 3, 2, 2, 1, 1, 1, 2, 1, 2, 1, 3, 1, 3, 1, 1, 2, 2, 1,\n",
       "       3, 3, 1, 2, 2, 1, 3, 3, 2, 1, 3, 2, 2, 2, 3, 3, 1, 2, 3, 3, 2, 3,\n",
       "       3, 1, 2, 1, 1, 2, 1, 3, 3, 3, 2, 2, 3, 2, 1, 2, 3, 2, 3, 2, 3, 3,\n",
       "       3, 3, 3, 2, 3, 1, 1, 2, 1, 1, 1, 2, 1, 3, 3, 3, 3, 2, 3, 1, 1, 1,\n",
       "       3, 3, 1, 2, 3, 3, 3, 3, 1, 1, 3, 3, 3, 2, 3, 3, 2, 1, 3, 1, 1, 2,\n",
       "       1, 2, 3, 1, 3, 2, 1, 3, 1, 3, 1, 3], dtype=int32)"
      ]
     },
     "execution_count": 25,
     "metadata": {},
     "output_type": "execute_result"
    }
   ],
   "source": [
    "clusters = fcluster(wardlink, 9.8, criterion='distance')\n",
    "clusters"
   ]
  },
  {
   "cell_type": "markdown",
   "metadata": {},
   "source": [
    "Let us now go ahead and attach these clusters with the original dataframe and try to interpet it from a business perspective."
   ]
  },
  {
   "cell_type": "code",
   "execution_count": 26,
   "metadata": {
    "ExecuteTime": {
     "end_time": "2020-03-12T07:50:20.668542Z",
     "start_time": "2020-03-12T07:50:20.644959Z"
    }
   },
   "outputs": [],
   "source": [
    "df['clusters'] = clusters"
   ]
  },
  {
   "cell_type": "code",
   "execution_count": 27,
   "metadata": {
    "ExecuteTime": {
     "end_time": "2020-03-12T07:50:21.132663Z",
     "start_time": "2020-03-12T07:50:21.114898Z"
    }
   },
   "outputs": [
    {
     "data": {
      "text/html": [
       "<div>\n",
       "<style scoped>\n",
       "    .dataframe tbody tr th:only-of-type {\n",
       "        vertical-align: middle;\n",
       "    }\n",
       "\n",
       "    .dataframe tbody tr th {\n",
       "        vertical-align: top;\n",
       "    }\n",
       "\n",
       "    .dataframe thead th {\n",
       "        text-align: right;\n",
       "    }\n",
       "</style>\n",
       "<table border=\"1\" class=\"dataframe\">\n",
       "  <thead>\n",
       "    <tr style=\"text-align: right;\">\n",
       "      <th></th>\n",
       "      <th>spending</th>\n",
       "      <th>advance_payments</th>\n",
       "      <th>probability_of_full_payment</th>\n",
       "      <th>current_balance</th>\n",
       "      <th>credit_limit</th>\n",
       "      <th>min_payment_amt</th>\n",
       "      <th>max_spent_in_single_shopping</th>\n",
       "      <th>clusters</th>\n",
       "    </tr>\n",
       "  </thead>\n",
       "  <tbody>\n",
       "    <tr>\n",
       "      <th>0</th>\n",
       "      <td>19.94</td>\n",
       "      <td>16.92</td>\n",
       "      <td>0.8752</td>\n",
       "      <td>6.675</td>\n",
       "      <td>3.763</td>\n",
       "      <td>3.252</td>\n",
       "      <td>6.550</td>\n",
       "      <td>1</td>\n",
       "    </tr>\n",
       "    <tr>\n",
       "      <th>1</th>\n",
       "      <td>15.99</td>\n",
       "      <td>14.89</td>\n",
       "      <td>0.9064</td>\n",
       "      <td>5.363</td>\n",
       "      <td>3.582</td>\n",
       "      <td>3.336</td>\n",
       "      <td>5.144</td>\n",
       "      <td>3</td>\n",
       "    </tr>\n",
       "    <tr>\n",
       "      <th>2</th>\n",
       "      <td>18.95</td>\n",
       "      <td>16.42</td>\n",
       "      <td>0.8829</td>\n",
       "      <td>6.248</td>\n",
       "      <td>3.755</td>\n",
       "      <td>3.368</td>\n",
       "      <td>6.148</td>\n",
       "      <td>1</td>\n",
       "    </tr>\n",
       "    <tr>\n",
       "      <th>3</th>\n",
       "      <td>10.83</td>\n",
       "      <td>12.96</td>\n",
       "      <td>0.8099</td>\n",
       "      <td>5.278</td>\n",
       "      <td>2.641</td>\n",
       "      <td>5.182</td>\n",
       "      <td>5.185</td>\n",
       "      <td>2</td>\n",
       "    </tr>\n",
       "    <tr>\n",
       "      <th>4</th>\n",
       "      <td>17.99</td>\n",
       "      <td>15.86</td>\n",
       "      <td>0.8992</td>\n",
       "      <td>5.890</td>\n",
       "      <td>3.694</td>\n",
       "      <td>2.068</td>\n",
       "      <td>5.837</td>\n",
       "      <td>1</td>\n",
       "    </tr>\n",
       "  </tbody>\n",
       "</table>\n",
       "</div>"
      ],
      "text/plain": [
       "   spending  advance_payments  probability_of_full_payment  current_balance  \\\n",
       "0     19.94             16.92                       0.8752            6.675   \n",
       "1     15.99             14.89                       0.9064            5.363   \n",
       "2     18.95             16.42                       0.8829            6.248   \n",
       "3     10.83             12.96                       0.8099            5.278   \n",
       "4     17.99             15.86                       0.8992            5.890   \n",
       "\n",
       "   credit_limit  min_payment_amt  max_spent_in_single_shopping  clusters  \n",
       "0         3.763            3.252                         6.550         1  \n",
       "1         3.582            3.336                         5.144         3  \n",
       "2         3.755            3.368                         6.148         1  \n",
       "3         2.641            5.182                         5.185         2  \n",
       "4         3.694            2.068                         5.837         1  "
      ]
     },
     "execution_count": 27,
     "metadata": {},
     "output_type": "execute_result"
    }
   ],
   "source": [
    "df.head()"
   ]
  },
  {
   "cell_type": "markdown",
   "metadata": {},
   "source": [
    "We will try to profile the clusters with the mean of the spending on each category. This will give us an idea about the various clusters thus built."
   ]
  },
  {
   "cell_type": "code",
   "execution_count": 28,
   "metadata": {
    "ExecuteTime": {
     "end_time": "2020-03-12T07:56:53.607515Z",
     "start_time": "2020-03-12T07:56:53.355359Z"
    }
   },
   "outputs": [
    {
     "data": {
      "text/html": [
       "<div>\n",
       "<style scoped>\n",
       "    .dataframe tbody tr th:only-of-type {\n",
       "        vertical-align: middle;\n",
       "    }\n",
       "\n",
       "    .dataframe tbody tr th {\n",
       "        vertical-align: top;\n",
       "    }\n",
       "\n",
       "    .dataframe thead th {\n",
       "        text-align: right;\n",
       "    }\n",
       "</style>\n",
       "<table border=\"1\" class=\"dataframe\">\n",
       "  <thead>\n",
       "    <tr style=\"text-align: right;\">\n",
       "      <th></th>\n",
       "      <th>spending</th>\n",
       "      <th>advance_payments</th>\n",
       "      <th>probability_of_full_payment</th>\n",
       "      <th>current_balance</th>\n",
       "      <th>credit_limit</th>\n",
       "      <th>min_payment_amt</th>\n",
       "      <th>max_spent_in_single_shopping</th>\n",
       "    </tr>\n",
       "    <tr>\n",
       "      <th>clusters</th>\n",
       "      <th></th>\n",
       "      <th></th>\n",
       "      <th></th>\n",
       "      <th></th>\n",
       "      <th></th>\n",
       "      <th></th>\n",
       "      <th></th>\n",
       "    </tr>\n",
       "  </thead>\n",
       "  <tbody>\n",
       "    <tr>\n",
       "      <th>1</th>\n",
       "      <td>18.371429</td>\n",
       "      <td>16.145429</td>\n",
       "      <td>0.884400</td>\n",
       "      <td>6.158171</td>\n",
       "      <td>3.684629</td>\n",
       "      <td>3.639157</td>\n",
       "      <td>6.017371</td>\n",
       "    </tr>\n",
       "    <tr>\n",
       "      <th>2</th>\n",
       "      <td>11.872388</td>\n",
       "      <td>13.257015</td>\n",
       "      <td>0.848072</td>\n",
       "      <td>5.238940</td>\n",
       "      <td>2.848537</td>\n",
       "      <td>4.949433</td>\n",
       "      <td>5.122209</td>\n",
       "    </tr>\n",
       "    <tr>\n",
       "      <th>3</th>\n",
       "      <td>14.199041</td>\n",
       "      <td>14.233562</td>\n",
       "      <td>0.879190</td>\n",
       "      <td>5.478233</td>\n",
       "      <td>3.226452</td>\n",
       "      <td>2.612181</td>\n",
       "      <td>5.086178</td>\n",
       "    </tr>\n",
       "  </tbody>\n",
       "</table>\n",
       "</div>"
      ],
      "text/plain": [
       "           spending  advance_payments  probability_of_full_payment  \\\n",
       "clusters                                                             \n",
       "1         18.371429         16.145429                     0.884400   \n",
       "2         11.872388         13.257015                     0.848072   \n",
       "3         14.199041         14.233562                     0.879190   \n",
       "\n",
       "          current_balance  credit_limit  min_payment_amt  \\\n",
       "clusters                                                   \n",
       "1                6.158171      3.684629         3.639157   \n",
       "2                5.238940      2.848537         4.949433   \n",
       "3                5.478233      3.226452         2.612181   \n",
       "\n",
       "          max_spent_in_single_shopping  \n",
       "clusters                                \n",
       "1                             6.017371  \n",
       "2                             5.122209  \n",
       "3                             5.086178  "
      ]
     },
     "execution_count": 28,
     "metadata": {},
     "output_type": "execute_result"
    }
   ],
   "source": [
    "df_clust = df.groupby('clusters').mean()\n",
    "df_clust.head()"
   ]
  },
  {
   "cell_type": "code",
   "execution_count": 29,
   "metadata": {
    "ExecuteTime": {
     "end_time": "2020-03-12T07:57:38.123035Z",
     "start_time": "2020-03-12T07:57:38.098681Z"
    }
   },
   "outputs": [
    {
     "data": {
      "text/html": [
       "<div>\n",
       "<style scoped>\n",
       "    .dataframe tbody tr th:only-of-type {\n",
       "        vertical-align: middle;\n",
       "    }\n",
       "\n",
       "    .dataframe tbody tr th {\n",
       "        vertical-align: top;\n",
       "    }\n",
       "\n",
       "    .dataframe thead th {\n",
       "        text-align: right;\n",
       "    }\n",
       "</style>\n",
       "<table border=\"1\" class=\"dataframe\">\n",
       "  <thead>\n",
       "    <tr style=\"text-align: right;\">\n",
       "      <th></th>\n",
       "      <th>clusters</th>\n",
       "      <th>spending</th>\n",
       "      <th>advance_payments</th>\n",
       "      <th>probability_of_full_payment</th>\n",
       "      <th>current_balance</th>\n",
       "      <th>credit_limit</th>\n",
       "      <th>min_payment_amt</th>\n",
       "      <th>max_spent_in_single_shopping</th>\n",
       "    </tr>\n",
       "  </thead>\n",
       "  <tbody>\n",
       "    <tr>\n",
       "      <th>0</th>\n",
       "      <td>1</td>\n",
       "      <td>18.371429</td>\n",
       "      <td>16.145429</td>\n",
       "      <td>0.884400</td>\n",
       "      <td>6.158171</td>\n",
       "      <td>3.684629</td>\n",
       "      <td>3.639157</td>\n",
       "      <td>6.017371</td>\n",
       "    </tr>\n",
       "    <tr>\n",
       "      <th>1</th>\n",
       "      <td>2</td>\n",
       "      <td>11.872388</td>\n",
       "      <td>13.257015</td>\n",
       "      <td>0.848072</td>\n",
       "      <td>5.238940</td>\n",
       "      <td>2.848537</td>\n",
       "      <td>4.949433</td>\n",
       "      <td>5.122209</td>\n",
       "    </tr>\n",
       "    <tr>\n",
       "      <th>2</th>\n",
       "      <td>3</td>\n",
       "      <td>14.199041</td>\n",
       "      <td>14.233562</td>\n",
       "      <td>0.879190</td>\n",
       "      <td>5.478233</td>\n",
       "      <td>3.226452</td>\n",
       "      <td>2.612181</td>\n",
       "      <td>5.086178</td>\n",
       "    </tr>\n",
       "  </tbody>\n",
       "</table>\n",
       "</div>"
      ],
      "text/plain": [
       "   clusters   spending  advance_payments  probability_of_full_payment  \\\n",
       "0         1  18.371429         16.145429                     0.884400   \n",
       "1         2  11.872388         13.257015                     0.848072   \n",
       "2         3  14.199041         14.233562                     0.879190   \n",
       "\n",
       "   current_balance  credit_limit  min_payment_amt  \\\n",
       "0         6.158171      3.684629         3.639157   \n",
       "1         5.238940      2.848537         4.949433   \n",
       "2         5.478233      3.226452         2.612181   \n",
       "\n",
       "   max_spent_in_single_shopping  \n",
       "0                      6.017371  \n",
       "1                      5.122209  \n",
       "2                      5.086178  "
      ]
     },
     "execution_count": 29,
     "metadata": {},
     "output_type": "execute_result"
    }
   ],
   "source": [
    "df_clust = df_clust.reset_index()\n",
    "df_clust"
   ]
  },
  {
   "cell_type": "code",
   "execution_count": 30,
   "metadata": {
    "ExecuteTime": {
     "end_time": "2020-03-12T07:57:53.083151Z",
     "start_time": "2020-03-12T07:57:53.063038Z"
    }
   },
   "outputs": [
    {
     "data": {
      "text/plain": [
       "1    70\n",
       "2    67\n",
       "3    73\n",
       "Name: clusters, dtype: int64"
      ]
     },
     "execution_count": 30,
     "metadata": {},
     "output_type": "execute_result"
    }
   ],
   "source": [
    "cluster_freq = df['clusters'].value_counts().sort_index()\n",
    "cluster_freq"
   ]
  },
  {
   "cell_type": "markdown",
   "metadata": {},
   "source": [
    "From the above data frame, we know the frequency of the occurence of each clusters"
   ]
  },
  {
   "cell_type": "code",
   "execution_count": 31,
   "metadata": {
    "ExecuteTime": {
     "end_time": "2020-03-12T07:57:53.617232Z",
     "start_time": "2020-03-12T07:57:53.595818Z"
    }
   },
   "outputs": [
    {
     "data": {
      "text/html": [
       "<div>\n",
       "<style scoped>\n",
       "    .dataframe tbody tr th:only-of-type {\n",
       "        vertical-align: middle;\n",
       "    }\n",
       "\n",
       "    .dataframe tbody tr th {\n",
       "        vertical-align: top;\n",
       "    }\n",
       "\n",
       "    .dataframe thead th {\n",
       "        text-align: right;\n",
       "    }\n",
       "</style>\n",
       "<table border=\"1\" class=\"dataframe\">\n",
       "  <thead>\n",
       "    <tr style=\"text-align: right;\">\n",
       "      <th></th>\n",
       "      <th>clusters</th>\n",
       "      <th>spending</th>\n",
       "      <th>advance_payments</th>\n",
       "      <th>probability_of_full_payment</th>\n",
       "      <th>current_balance</th>\n",
       "      <th>credit_limit</th>\n",
       "      <th>min_payment_amt</th>\n",
       "      <th>max_spent_in_single_shopping</th>\n",
       "      <th>Frequency</th>\n",
       "    </tr>\n",
       "  </thead>\n",
       "  <tbody>\n",
       "    <tr>\n",
       "      <th>0</th>\n",
       "      <td>1</td>\n",
       "      <td>18.371429</td>\n",
       "      <td>16.145429</td>\n",
       "      <td>0.884400</td>\n",
       "      <td>6.158171</td>\n",
       "      <td>3.684629</td>\n",
       "      <td>3.639157</td>\n",
       "      <td>6.017371</td>\n",
       "      <td>70</td>\n",
       "    </tr>\n",
       "    <tr>\n",
       "      <th>1</th>\n",
       "      <td>2</td>\n",
       "      <td>11.872388</td>\n",
       "      <td>13.257015</td>\n",
       "      <td>0.848072</td>\n",
       "      <td>5.238940</td>\n",
       "      <td>2.848537</td>\n",
       "      <td>4.949433</td>\n",
       "      <td>5.122209</td>\n",
       "      <td>67</td>\n",
       "    </tr>\n",
       "    <tr>\n",
       "      <th>2</th>\n",
       "      <td>3</td>\n",
       "      <td>14.199041</td>\n",
       "      <td>14.233562</td>\n",
       "      <td>0.879190</td>\n",
       "      <td>5.478233</td>\n",
       "      <td>3.226452</td>\n",
       "      <td>2.612181</td>\n",
       "      <td>5.086178</td>\n",
       "      <td>73</td>\n",
       "    </tr>\n",
       "  </tbody>\n",
       "</table>\n",
       "</div>"
      ],
      "text/plain": [
       "   clusters   spending  advance_payments  probability_of_full_payment  \\\n",
       "0         1  18.371429         16.145429                     0.884400   \n",
       "1         2  11.872388         13.257015                     0.848072   \n",
       "2         3  14.199041         14.233562                     0.879190   \n",
       "\n",
       "   current_balance  credit_limit  min_payment_amt  \\\n",
       "0         6.158171      3.684629         3.639157   \n",
       "1         5.238940      2.848537         4.949433   \n",
       "2         5.478233      3.226452         2.612181   \n",
       "\n",
       "   max_spent_in_single_shopping  Frequency  \n",
       "0                      6.017371         70  \n",
       "1                      5.122209         67  \n",
       "2                      5.086178         73  "
      ]
     },
     "execution_count": 31,
     "metadata": {},
     "output_type": "execute_result"
    }
   ],
   "source": [
    "df_clust['Frequency'] = cluster_freq.values\n",
    "df_clust"
   ]
  },
  {
   "cell_type": "markdown",
   "metadata": {},
   "source": [
    "From the above data frame, we know the frequency of the occurence of each clusters."
   ]
  },
  {
   "cell_type": "markdown",
   "metadata": {},
   "source": [
    "## 4) Apply K-Means clustering on scaled data and determine optimum clusters. Apply elbow curve and silhouette score."
   ]
  },
  {
   "cell_type": "markdown",
   "metadata": {},
   "source": [
    "In K-Means Clustering we have to choose the value of 'K' very accurately by looking at the Within Sum of Squares (WSS)."
   ]
  },
  {
   "cell_type": "markdown",
   "metadata": {},
   "source": [
    "Since we have already scaled the data above, let us go ahead and perform the K-Means Clustering."
   ]
  },
  {
   "cell_type": "markdown",
   "metadata": {},
   "source": [
    "    Since we do not know the value of 'K' i.e. the opitmum number of clusters we will start with 2 clusters and check the Within Sum of Squares (WSS).\n"
   ]
  },
  {
   "cell_type": "markdown",
   "metadata": {},
   "source": [
    "The 'inertia' gives us the Within Sum of Squares (WSS) for the number of clusters defined in the KMeans function inside the 'sklearn' library."
   ]
  },
  {
   "cell_type": "markdown",
   "metadata": {},
   "source": [
    "Let us now check the WSS for 2 clusters."
   ]
  },
  {
   "cell_type": "code",
   "execution_count": 32,
   "metadata": {},
   "outputs": [
    {
     "data": {
      "text/plain": [
       "659.1717544870407"
      ]
     },
     "execution_count": 32,
     "metadata": {},
     "output_type": "execute_result"
    }
   ],
   "source": [
    "k_means = KMeans(n_clusters = 2)\n",
    "k_means.fit(data_scaled)\n",
    "k_means.inertia_"
   ]
  },
  {
   "cell_type": "markdown",
   "metadata": {},
   "source": [
    "Let us now check the WSS for 3 clusters."
   ]
  },
  {
   "cell_type": "code",
   "execution_count": 33,
   "metadata": {},
   "outputs": [
    {
     "data": {
      "text/plain": [
       "430.65897315130053"
      ]
     },
     "execution_count": 33,
     "metadata": {},
     "output_type": "execute_result"
    }
   ],
   "source": [
    "k_means = KMeans(n_clusters = 3)\n",
    "k_means.fit(data_scaled)\n",
    "k_means.inertia_"
   ]
  },
  {
   "cell_type": "code",
   "execution_count": 34,
   "metadata": {},
   "outputs": [
    {
     "data": {
      "text/plain": [
       "array([0, 2, 0, 1, 0, 1, 1, 2, 0, 1, 0, 2, 1, 0, 2, 1, 2, 1, 1, 1, 1, 1,\n",
       "       0, 1, 2, 0, 2, 1, 1, 1, 2, 1, 1, 2, 1, 1, 1, 1, 1, 0, 0, 2, 0, 0,\n",
       "       1, 1, 2, 0, 0, 0, 1, 0, 0, 0, 0, 0, 1, 1, 1, 0, 2, 1, 1, 2, 2, 0,\n",
       "       0, 2, 0, 1, 2, 1, 0, 0, 1, 0, 2, 1, 0, 2, 2, 2, 2, 0, 1, 2, 0, 2,\n",
       "       0, 1, 2, 0, 2, 1, 1, 0, 0, 0, 1, 0, 2, 0, 2, 0, 2, 0, 0, 1, 1, 0,\n",
       "       2, 2, 0, 1, 1, 0, 2, 2, 1, 0, 2, 1, 1, 1, 2, 2, 0, 1, 2, 2, 1, 2,\n",
       "       2, 0, 1, 0, 0, 1, 0, 2, 2, 2, 1, 1, 2, 1, 0, 1, 2, 1, 2, 1, 2, 2,\n",
       "       1, 2, 2, 1, 2, 0, 0, 1, 0, 0, 0, 1, 2, 2, 2, 1, 2, 1, 2, 0, 0, 0,\n",
       "       2, 1, 2, 1, 2, 2, 2, 2, 0, 0, 1, 2, 2, 1, 1, 2, 1, 0, 2, 0, 0, 1,\n",
       "       0, 1, 2, 0, 2, 1, 0, 2, 0, 2, 2, 2])"
      ]
     },
     "execution_count": 34,
     "metadata": {},
     "output_type": "execute_result"
    }
   ],
   "source": [
    "k_means.labels_"
   ]
  },
  {
   "cell_type": "markdown",
   "metadata": {},
   "source": [
    "Let us now check the WSS for 4 clusters."
   ]
  },
  {
   "cell_type": "code",
   "execution_count": 35,
   "metadata": {},
   "outputs": [
    {
     "data": {
      "text/plain": [
       "371.1846125351019"
      ]
     },
     "execution_count": 35,
     "metadata": {},
     "output_type": "execute_result"
    }
   ],
   "source": [
    "k_means = KMeans(n_clusters = 4)\n",
    "k_means.fit(data_scaled)\n",
    "k_means.inertia_"
   ]
  },
  {
   "cell_type": "markdown",
   "metadata": {},
   "source": [
    "Now, we see that the WSS is decreasing. But it is very cumbersome to manually compute for each value. So, we are going to pass the KMeans function through a loop to automate this process of manually calculating the 'inertia'."
   ]
  },
  {
   "cell_type": "markdown",
   "metadata": {},
   "source": [
    "Let us define an empty list to being the process of automating the calculation of 'inertia'."
   ]
  },
  {
   "cell_type": "code",
   "execution_count": 36,
   "metadata": {},
   "outputs": [],
   "source": [
    "wss = []\n",
    "for i in range(1,11):\n",
    "    km_model = KMeans(n_clusters= i )\n",
    "    km_model.fit(data_scaled)\n",
    "    wss.append(km_model.inertia_)\n",
    " "
   ]
  },
  {
   "cell_type": "markdown",
   "metadata": {},
   "source": [
    "Now, let us print 'wss' and check the values."
   ]
  },
  {
   "cell_type": "code",
   "execution_count": 37,
   "metadata": {},
   "outputs": [
    {
     "name": "stdout",
     "output_type": "stream",
     "text": [
      "The wss value for 2 clusters is 1470.0\n",
      "The wss value for 3 clusters is 659.1717544870407\n",
      "The wss value for 4 clusters is 430.65897315130053\n",
      "The wss value for 5 clusters is 371.2834476674334\n",
      "The wss value for 6 clusters is 328.180247142173\n",
      "The wss value for 7 clusters is 289.2157378113418\n",
      "The wss value for 8 clusters is 262.8373166735822\n"
     ]
    }
   ],
   "source": [
    "for i in range(2,9):\n",
    "    print('The wss value for',i,'clusters is',wss[i-2])"
   ]
  },
  {
   "cell_type": "markdown",
   "metadata": {},
   "source": [
    "There are some other techniques from which can be used to find the approximate or optimal value of k."
   ]
  },
  {
   "cell_type": "markdown",
   "metadata": {},
   "source": [
    "# Elbow method -\n",
    "\n",
    "## It is most popular and well-known method to find the optimal no. of clusters or the value of k in the process of clustering.This method is based of plotting the value of cost function against different values of k. As the number of clusters (k) increase lesser number of points fall within clusters or around the centroids.Hence the average distortion decreases with the increase of number of clusters. The point where the distortion declines most is said to be the elbow pointand define the optimal number of clusters for dataset."
   ]
  },
  {
   "cell_type": "code",
   "execution_count": 38,
   "metadata": {},
   "outputs": [
    {
     "data": {
      "image/png": "[encoded data removed]",
      "text/plain": [
       "<Figure size 1440x1440 with 1 Axes>"
      ]
     },
     "metadata": {
      "needs_background": "light"
     },
     "output_type": "display_data"
    }
   ],
   "source": [
    "plt.plot(range(1,11), wss, 'bx-')\n",
    "plt.xlabel('k')\n",
    "plt.ylabel('wss')\n",
    "plt.title('Selecting k with the Elbow Method');"
   ]
  },
  {
   "cell_type": "markdown",
   "metadata": {},
   "source": [
    "The ideal 'WSS' plot has to have a sharp elbow like structure. The number of clusters corresponding to that elbow-like graph is considered to be the most optimum."
   ]
  },
  {
   "cell_type": "markdown",
   "metadata": {},
   "source": [
    "As it is clear from above figure, the distortion declines most at 3. Hence the optimal value of k will be 3 for performing the clustering. In other words the plot looks as an arm with anelbow at k = 3."
   ]
  },
  {
   "cell_type": "markdown",
   "metadata": {},
   "source": [
    "\n",
    "\n",
    "Having said that, here we will go for 3 clusters."
   ]
  },
  {
   "cell_type": "markdown",
   "metadata": {},
   "source": [
    "Let us now store the values of the clusters into a variable and we will attach the particular variable to the data set."
   ]
  },
  {
   "cell_type": "markdown",
   "metadata": {},
   "source": [
    "# Silhouette Method -"
   ]
  },
  {
   "cell_type": "markdown",
   "metadata": {},
   "source": [
    "## Silhouette is a different method to determine optimal number of clusters for given dataset. It defines as a coefficient of measureof how similar anobservation to its own cluster compared to that of other clusters. The range of silhouette coefficient varies between -1 to 1.1 valueindicatethat anobservation is far from its neighbouringclusterand close to its own whereas-1 denotes that an observation isclose to neighbouring cluster than its own cluster. The 0 value indicate the presence of observation on boundary of two clusters"
   ]
  },
  {
   "cell_type": "code",
   "execution_count": 39,
   "metadata": {},
   "outputs": [],
   "source": [
    "from sklearn.metrics import silhouette_score"
   ]
  },
  {
   "cell_type": "code",
   "execution_count": 40,
   "metadata": {},
   "outputs": [
    {
     "name": "stdout",
     "output_type": "stream",
     "text": [
      "silhouette = 0.46577247686580914 for i= 2\n",
      "silhouette = 0.4007270552751299 for i= 3\n",
      "silhouette = 0.3291966792017613 for i= 4\n",
      "silhouette = 0.2865045701398138 for i= 5\n",
      "silhouette = 0.29127768970444345 for i= 6\n",
      "silhouette = 0.27393907672148887 for i= 7\n",
      "silhouette = 0.25022538653640086 for i= 8\n",
      "silhouette = 0.24491366410664225 for i= 9\n",
      "silhouette = 0.2502746699759954 for i= 10\n"
     ]
    }
   ],
   "source": [
    "\n",
    "for i in range(2,11):\n",
    "    km_model = KMeans(n_clusters= i,random_state = 42)\n",
    "    y=km_model.fit_predict(data_scaled)     \n",
    "    s =silhouette_score(data_scaled, y)\n",
    "    print(\"silhouette =\",s, \"for i=\", i)   "
   ]
  },
  {
   "cell_type": "code",
   "execution_count": 41,
   "metadata": {},
   "outputs": [
    {
     "data": {
      "image/png": "[encoded data removed]",
      "text/plain": [
       "<Figure size 1440x1440 with 1 Axes>"
      ]
     },
     "metadata": {
      "needs_background": "light"
     },
     "output_type": "display_data"
    }
   ],
   "source": [
    "score = []\n",
    "for i in range(2,11):\n",
    "    km_model = KMeans(n_clusters= i )\n",
    "    km_model.fit(data_scaled)\n",
    "    score.append(round(silhouette_score(data_scaled, km_model.labels_),2))\n",
    "\n",
    "plt.plot(range(2,11), score, 'bx-')\n",
    "plt.xlabel('k')\n",
    "plt.ylabel('silhouette_score')\n",
    "plt.title('Selecting k with the silhouette_score');"
   ]
  },
  {
   "cell_type": "markdown",
   "metadata": {},
   "source": [
    "From above Silhouette Method it was identified that 0.46577247686580914 is highest Silhouette score for K=2. Wheras as per Elbow method the distortion declines most at 3. Hence we will go ahead with 3 clusters."
   ]
  },
  {
   "cell_type": "code",
   "execution_count": 42,
   "metadata": {},
   "outputs": [],
   "source": [
    "k_means = KMeans(n_clusters = 3)\n",
    "k_means.fit(data_scaled)\n",
    "labels = k_means.labels_"
   ]
  },
  {
   "cell_type": "code",
   "execution_count": 43,
   "metadata": {},
   "outputs": [
    {
     "data": {
      "text/html": [
       "<div>\n",
       "<style scoped>\n",
       "    .dataframe tbody tr th:only-of-type {\n",
       "        vertical-align: middle;\n",
       "    }\n",
       "\n",
       "    .dataframe tbody tr th {\n",
       "        vertical-align: top;\n",
       "    }\n",
       "\n",
       "    .dataframe thead th {\n",
       "        text-align: right;\n",
       "    }\n",
       "</style>\n",
       "<table border=\"1\" class=\"dataframe\">\n",
       "  <thead>\n",
       "    <tr style=\"text-align: right;\">\n",
       "      <th></th>\n",
       "      <th>spending</th>\n",
       "      <th>advance_payments</th>\n",
       "      <th>probability_of_full_payment</th>\n",
       "      <th>current_balance</th>\n",
       "      <th>credit_limit</th>\n",
       "      <th>min_payment_amt</th>\n",
       "      <th>max_spent_in_single_shopping</th>\n",
       "      <th>clusters</th>\n",
       "      <th>Clus_kmeans</th>\n",
       "    </tr>\n",
       "  </thead>\n",
       "  <tbody>\n",
       "    <tr>\n",
       "      <th>0</th>\n",
       "      <td>19.94</td>\n",
       "      <td>16.92</td>\n",
       "      <td>0.8752</td>\n",
       "      <td>6.675</td>\n",
       "      <td>3.763</td>\n",
       "      <td>3.252</td>\n",
       "      <td>6.550</td>\n",
       "      <td>1</td>\n",
       "      <td>2</td>\n",
       "    </tr>\n",
       "    <tr>\n",
       "      <th>1</th>\n",
       "      <td>15.99</td>\n",
       "      <td>14.89</td>\n",
       "      <td>0.9064</td>\n",
       "      <td>5.363</td>\n",
       "      <td>3.582</td>\n",
       "      <td>3.336</td>\n",
       "      <td>5.144</td>\n",
       "      <td>3</td>\n",
       "      <td>0</td>\n",
       "    </tr>\n",
       "    <tr>\n",
       "      <th>2</th>\n",
       "      <td>18.95</td>\n",
       "      <td>16.42</td>\n",
       "      <td>0.8829</td>\n",
       "      <td>6.248</td>\n",
       "      <td>3.755</td>\n",
       "      <td>3.368</td>\n",
       "      <td>6.148</td>\n",
       "      <td>1</td>\n",
       "      <td>2</td>\n",
       "    </tr>\n",
       "    <tr>\n",
       "      <th>3</th>\n",
       "      <td>10.83</td>\n",
       "      <td>12.96</td>\n",
       "      <td>0.8099</td>\n",
       "      <td>5.278</td>\n",
       "      <td>2.641</td>\n",
       "      <td>5.182</td>\n",
       "      <td>5.185</td>\n",
       "      <td>2</td>\n",
       "      <td>1</td>\n",
       "    </tr>\n",
       "    <tr>\n",
       "      <th>4</th>\n",
       "      <td>17.99</td>\n",
       "      <td>15.86</td>\n",
       "      <td>0.8992</td>\n",
       "      <td>5.890</td>\n",
       "      <td>3.694</td>\n",
       "      <td>2.068</td>\n",
       "      <td>5.837</td>\n",
       "      <td>1</td>\n",
       "      <td>2</td>\n",
       "    </tr>\n",
       "  </tbody>\n",
       "</table>\n",
       "</div>"
      ],
      "text/plain": [
       "   spending  advance_payments  probability_of_full_payment  current_balance  \\\n",
       "0     19.94             16.92                       0.8752            6.675   \n",
       "1     15.99             14.89                       0.9064            5.363   \n",
       "2     18.95             16.42                       0.8829            6.248   \n",
       "3     10.83             12.96                       0.8099            5.278   \n",
       "4     17.99             15.86                       0.8992            5.890   \n",
       "\n",
       "   credit_limit  min_payment_amt  max_spent_in_single_shopping  clusters  \\\n",
       "0         3.763            3.252                         6.550         1   \n",
       "1         3.582            3.336                         5.144         3   \n",
       "2         3.755            3.368                         6.148         1   \n",
       "3         2.641            5.182                         5.185         2   \n",
       "4         3.694            2.068                         5.837         1   \n",
       "\n",
       "   Clus_kmeans  \n",
       "0            2  \n",
       "1            0  \n",
       "2            2  \n",
       "3            1  \n",
       "4            2  "
      ]
     },
     "execution_count": 43,
     "metadata": {},
     "output_type": "execute_result"
    }
   ],
   "source": [
    "df[\"Clus_kmeans\"] = labels\n",
    "df.head()"
   ]
  },
  {
   "cell_type": "code",
   "execution_count": 44,
   "metadata": {},
   "outputs": [
    {
     "data": {
      "text/html": [
       "<div>\n",
       "<style scoped>\n",
       "    .dataframe tbody tr th:only-of-type {\n",
       "        vertical-align: middle;\n",
       "    }\n",
       "\n",
       "    .dataframe tbody tr th {\n",
       "        vertical-align: top;\n",
       "    }\n",
       "\n",
       "    .dataframe thead th {\n",
       "        text-align: right;\n",
       "    }\n",
       "</style>\n",
       "<table border=\"1\" class=\"dataframe\">\n",
       "  <thead>\n",
       "    <tr style=\"text-align: right;\">\n",
       "      <th></th>\n",
       "      <th>Clus_kmeans</th>\n",
       "      <th>spending</th>\n",
       "      <th>advance_payments</th>\n",
       "      <th>probability_of_full_payment</th>\n",
       "      <th>current_balance</th>\n",
       "      <th>credit_limit</th>\n",
       "      <th>min_payment_amt</th>\n",
       "      <th>max_spent_in_single_shopping</th>\n",
       "      <th>clusters</th>\n",
       "    </tr>\n",
       "  </thead>\n",
       "  <tbody>\n",
       "    <tr>\n",
       "      <th>0</th>\n",
       "      <td>0</td>\n",
       "      <td>14.0</td>\n",
       "      <td>14.0</td>\n",
       "      <td>1.0</td>\n",
       "      <td>6.0</td>\n",
       "      <td>3.0</td>\n",
       "      <td>3.0</td>\n",
       "      <td>5.0</td>\n",
       "      <td>3.0</td>\n",
       "    </tr>\n",
       "    <tr>\n",
       "      <th>1</th>\n",
       "      <td>1</td>\n",
       "      <td>12.0</td>\n",
       "      <td>13.0</td>\n",
       "      <td>1.0</td>\n",
       "      <td>5.0</td>\n",
       "      <td>3.0</td>\n",
       "      <td>5.0</td>\n",
       "      <td>5.0</td>\n",
       "      <td>2.0</td>\n",
       "    </tr>\n",
       "    <tr>\n",
       "      <th>2</th>\n",
       "      <td>2</td>\n",
       "      <td>18.0</td>\n",
       "      <td>16.0</td>\n",
       "      <td>1.0</td>\n",
       "      <td>6.0</td>\n",
       "      <td>4.0</td>\n",
       "      <td>4.0</td>\n",
       "      <td>6.0</td>\n",
       "      <td>1.0</td>\n",
       "    </tr>\n",
       "  </tbody>\n",
       "</table>\n",
       "</div>"
      ],
      "text/plain": [
       "   Clus_kmeans  spending  advance_payments  probability_of_full_payment  \\\n",
       "0            0      14.0              14.0                          1.0   \n",
       "1            1      12.0              13.0                          1.0   \n",
       "2            2      18.0              16.0                          1.0   \n",
       "\n",
       "   current_balance  credit_limit  min_payment_amt  \\\n",
       "0              6.0           3.0              3.0   \n",
       "1              5.0           3.0              5.0   \n",
       "2              6.0           4.0              4.0   \n",
       "\n",
       "   max_spent_in_single_shopping  clusters  \n",
       "0                           5.0       3.0  \n",
       "1                           5.0       2.0  \n",
       "2                           6.0       1.0  "
      ]
     },
     "execution_count": 44,
     "metadata": {},
     "output_type": "execute_result"
    }
   ],
   "source": [
    "df_clust = df.groupby('Clus_kmeans').mean()\n",
    "df_clust = df_clust.reset_index()\n",
    "round(df_clust,0)"
   ]
  },
  {
   "cell_type": "markdown",
   "metadata": {},
   "source": [
    "Let us check the frequency of the occurence of the clusters for each individual cluster."
   ]
  },
  {
   "cell_type": "code",
   "execution_count": 45,
   "metadata": {},
   "outputs": [
    {
     "data": {
      "text/plain": [
       "0    71\n",
       "1    72\n",
       "2    67\n",
       "Name: Clus_kmeans, dtype: int64"
      ]
     },
     "execution_count": 45,
     "metadata": {},
     "output_type": "execute_result"
    }
   ],
   "source": [
    "cluster_freq = df['Clus_kmeans'].value_counts().sort_index()\n",
    "cluster_freq"
   ]
  },
  {
   "cell_type": "markdown",
   "metadata": {},
   "source": [
    "## 5) Describe cluster profiles for the clusters defined. Recommend different promotional strategies for different clusters.¶"
   ]
  },
  {
   "cell_type": "code",
   "execution_count": 46,
   "metadata": {},
   "outputs": [
    {
     "data": {
      "text/html": [
       "<div>\n",
       "<style scoped>\n",
       "    .dataframe tbody tr th:only-of-type {\n",
       "        vertical-align: middle;\n",
       "    }\n",
       "\n",
       "    .dataframe tbody tr th {\n",
       "        vertical-align: top;\n",
       "    }\n",
       "\n",
       "    .dataframe thead th {\n",
       "        text-align: right;\n",
       "    }\n",
       "</style>\n",
       "<table border=\"1\" class=\"dataframe\">\n",
       "  <thead>\n",
       "    <tr style=\"text-align: right;\">\n",
       "      <th></th>\n",
       "      <th>Clus_kmeans</th>\n",
       "      <th>spending</th>\n",
       "      <th>advance_payments</th>\n",
       "      <th>probability_of_full_payment</th>\n",
       "      <th>current_balance</th>\n",
       "      <th>credit_limit</th>\n",
       "      <th>min_payment_amt</th>\n",
       "      <th>max_spent_in_single_shopping</th>\n",
       "      <th>clusters</th>\n",
       "      <th>Frequency</th>\n",
       "    </tr>\n",
       "  </thead>\n",
       "  <tbody>\n",
       "    <tr>\n",
       "      <th>0</th>\n",
       "      <td>0</td>\n",
       "      <td>14.0</td>\n",
       "      <td>14.0</td>\n",
       "      <td>1.0</td>\n",
       "      <td>6.0</td>\n",
       "      <td>3.0</td>\n",
       "      <td>3.0</td>\n",
       "      <td>5.0</td>\n",
       "      <td>3.0</td>\n",
       "      <td>71</td>\n",
       "    </tr>\n",
       "    <tr>\n",
       "      <th>1</th>\n",
       "      <td>1</td>\n",
       "      <td>12.0</td>\n",
       "      <td>13.0</td>\n",
       "      <td>1.0</td>\n",
       "      <td>5.0</td>\n",
       "      <td>3.0</td>\n",
       "      <td>5.0</td>\n",
       "      <td>5.0</td>\n",
       "      <td>2.0</td>\n",
       "      <td>72</td>\n",
       "    </tr>\n",
       "    <tr>\n",
       "      <th>2</th>\n",
       "      <td>2</td>\n",
       "      <td>18.0</td>\n",
       "      <td>16.0</td>\n",
       "      <td>1.0</td>\n",
       "      <td>6.0</td>\n",
       "      <td>4.0</td>\n",
       "      <td>4.0</td>\n",
       "      <td>6.0</td>\n",
       "      <td>1.0</td>\n",
       "      <td>67</td>\n",
       "    </tr>\n",
       "  </tbody>\n",
       "</table>\n",
       "</div>"
      ],
      "text/plain": [
       "   Clus_kmeans  spending  advance_payments  probability_of_full_payment  \\\n",
       "0            0      14.0              14.0                          1.0   \n",
       "1            1      12.0              13.0                          1.0   \n",
       "2            2      18.0              16.0                          1.0   \n",
       "\n",
       "   current_balance  credit_limit  min_payment_amt  \\\n",
       "0              6.0           3.0              3.0   \n",
       "1              5.0           3.0              5.0   \n",
       "2              6.0           4.0              4.0   \n",
       "\n",
       "   max_spent_in_single_shopping  clusters  Frequency  \n",
       "0                           5.0       3.0         71  \n",
       "1                           5.0       2.0         72  \n",
       "2                           6.0       1.0         67  "
      ]
     },
     "execution_count": 46,
     "metadata": {},
     "output_type": "execute_result"
    }
   ],
   "source": [
    "df_clust['Frequency'] = cluster_freq.values\n",
    "round(df_clust,0)"
   ]
  },
  {
   "cell_type": "markdown",
   "metadata": {},
   "source": [
    "Now, let us compare the different clusters with the average values and try to interpret the problem."
   ]
  },
  {
   "cell_type": "markdown",
   "metadata": {},
   "source": [
    "### Silhouette Score\n",
    "The silhouette value is a measure of how similar an object is to its own cluster (cohesion) compared to other clusters (separation). The silhouette ranges from −1 to +1, where a high value indicates that the object is well matched to its own cluster and poorly matched to neighboring clusters."
   ]
  },
  {
   "cell_type": "markdown",
   "metadata": {},
   "source": [
    "### Silhouette Width / Silhouette Sample\n",
    "the silhouette width is also an estimate of the average distance between clusters. Its value is comprised between 1 and -1 with a value of 1 indicating a very good cluster."
   ]
  },
  {
   "cell_type": "code",
   "execution_count": 47,
   "metadata": {},
   "outputs": [],
   "source": [
    "from sklearn.metrics import silhouette_samples, silhouette_score"
   ]
  },
  {
   "cell_type": "code",
   "execution_count": 48,
   "metadata": {},
   "outputs": [
    {
     "data": {
      "text/plain": [
       "0.4007270552751299"
      ]
     },
     "execution_count": 48,
     "metadata": {},
     "output_type": "execute_result"
    }
   ],
   "source": [
    "silhouette_score(data_scaled,k_means.labels_)"
   ]
  },
  {
   "cell_type": "code",
   "execution_count": 49,
   "metadata": {},
   "outputs": [],
   "source": [
    "sil_width = silhouette_samples(data_scaled,labels)"
   ]
  },
  {
   "cell_type": "code",
   "execution_count": 50,
   "metadata": {},
   "outputs": [
    {
     "data": {
      "text/html": [
       "<div>\n",
       "<style scoped>\n",
       "    .dataframe tbody tr th:only-of-type {\n",
       "        vertical-align: middle;\n",
       "    }\n",
       "\n",
       "    .dataframe tbody tr th {\n",
       "        vertical-align: top;\n",
       "    }\n",
       "\n",
       "    .dataframe thead th {\n",
       "        text-align: right;\n",
       "    }\n",
       "</style>\n",
       "<table border=\"1\" class=\"dataframe\">\n",
       "  <thead>\n",
       "    <tr style=\"text-align: right;\">\n",
       "      <th></th>\n",
       "      <th>spending</th>\n",
       "      <th>advance_payments</th>\n",
       "      <th>probability_of_full_payment</th>\n",
       "      <th>current_balance</th>\n",
       "      <th>credit_limit</th>\n",
       "      <th>min_payment_amt</th>\n",
       "      <th>max_spent_in_single_shopping</th>\n",
       "      <th>clusters</th>\n",
       "      <th>Clus_kmeans</th>\n",
       "      <th>sil_width</th>\n",
       "    </tr>\n",
       "  </thead>\n",
       "  <tbody>\n",
       "    <tr>\n",
       "      <th>0</th>\n",
       "      <td>19.94</td>\n",
       "      <td>16.92</td>\n",
       "      <td>0.8752</td>\n",
       "      <td>6.675</td>\n",
       "      <td>3.763</td>\n",
       "      <td>3.252</td>\n",
       "      <td>6.550</td>\n",
       "      <td>1</td>\n",
       "      <td>2</td>\n",
       "      <td>0.573699</td>\n",
       "    </tr>\n",
       "    <tr>\n",
       "      <th>1</th>\n",
       "      <td>15.99</td>\n",
       "      <td>14.89</td>\n",
       "      <td>0.9064</td>\n",
       "      <td>5.363</td>\n",
       "      <td>3.582</td>\n",
       "      <td>3.336</td>\n",
       "      <td>5.144</td>\n",
       "      <td>3</td>\n",
       "      <td>0</td>\n",
       "      <td>0.366386</td>\n",
       "    </tr>\n",
       "    <tr>\n",
       "      <th>2</th>\n",
       "      <td>18.95</td>\n",
       "      <td>16.42</td>\n",
       "      <td>0.8829</td>\n",
       "      <td>6.248</td>\n",
       "      <td>3.755</td>\n",
       "      <td>3.368</td>\n",
       "      <td>6.148</td>\n",
       "      <td>1</td>\n",
       "      <td>2</td>\n",
       "      <td>0.637784</td>\n",
       "    </tr>\n",
       "    <tr>\n",
       "      <th>3</th>\n",
       "      <td>10.83</td>\n",
       "      <td>12.96</td>\n",
       "      <td>0.8099</td>\n",
       "      <td>5.278</td>\n",
       "      <td>2.641</td>\n",
       "      <td>5.182</td>\n",
       "      <td>5.185</td>\n",
       "      <td>2</td>\n",
       "      <td>1</td>\n",
       "      <td>0.512458</td>\n",
       "    </tr>\n",
       "    <tr>\n",
       "      <th>4</th>\n",
       "      <td>17.99</td>\n",
       "      <td>15.86</td>\n",
       "      <td>0.8992</td>\n",
       "      <td>5.890</td>\n",
       "      <td>3.694</td>\n",
       "      <td>2.068</td>\n",
       "      <td>5.837</td>\n",
       "      <td>1</td>\n",
       "      <td>2</td>\n",
       "      <td>0.362276</td>\n",
       "    </tr>\n",
       "  </tbody>\n",
       "</table>\n",
       "</div>"
      ],
      "text/plain": [
       "   spending  advance_payments  probability_of_full_payment  current_balance  \\\n",
       "0     19.94             16.92                       0.8752            6.675   \n",
       "1     15.99             14.89                       0.9064            5.363   \n",
       "2     18.95             16.42                       0.8829            6.248   \n",
       "3     10.83             12.96                       0.8099            5.278   \n",
       "4     17.99             15.86                       0.8992            5.890   \n",
       "\n",
       "   credit_limit  min_payment_amt  max_spent_in_single_shopping  clusters  \\\n",
       "0         3.763            3.252                         6.550         1   \n",
       "1         3.582            3.336                         5.144         3   \n",
       "2         3.755            3.368                         6.148         1   \n",
       "3         2.641            5.182                         5.185         2   \n",
       "4         3.694            2.068                         5.837         1   \n",
       "\n",
       "   Clus_kmeans  sil_width  \n",
       "0            2   0.573699  \n",
       "1            0   0.366386  \n",
       "2            2   0.637784  \n",
       "3            1   0.512458  \n",
       "4            2   0.362276  "
      ]
     },
     "execution_count": 50,
     "metadata": {},
     "output_type": "execute_result"
    }
   ],
   "source": [
    "df[\"sil_width\"] = sil_width\n",
    "df.head()"
   ]
  },
  {
   "cell_type": "code",
   "execution_count": 51,
   "metadata": {},
   "outputs": [
    {
     "data": {
      "text/plain": [
       "0.002713089347678533"
      ]
     },
     "execution_count": 51,
     "metadata": {},
     "output_type": "execute_result"
    }
   ],
   "source": [
    "silhouette_samples(data_scaled,labels).min()"
   ]
  },
  {
   "cell_type": "markdown",
   "metadata": {},
   "source": [
    "Since the smallest value of  silhouette width is 0.0271 this indicates that no observation or no custumer record that is incorrectly mapped to a cluster. All the silhoutte width scores are positive. Hence we can say that all the clusters are correctly mapped"
   ]
  },
  {
   "cell_type": "code",
   "execution_count": 52,
   "metadata": {},
   "outputs": [],
   "source": [
    "df.to_csv('kmeans.csv')"
   ]
  },
  {
   "cell_type": "code",
   "execution_count": 53,
   "metadata": {},
   "outputs": [
    {
     "data": {
      "text/html": [
       "<div>\n",
       "<style scoped>\n",
       "    .dataframe tbody tr th:only-of-type {\n",
       "        vertical-align: middle;\n",
       "    }\n",
       "\n",
       "    .dataframe tbody tr th {\n",
       "        vertical-align: top;\n",
       "    }\n",
       "\n",
       "    .dataframe thead th {\n",
       "        text-align: right;\n",
       "    }\n",
       "</style>\n",
       "<table border=\"1\" class=\"dataframe\">\n",
       "  <thead>\n",
       "    <tr style=\"text-align: right;\">\n",
       "      <th></th>\n",
       "      <th>Clus_kmeans</th>\n",
       "      <th>spending</th>\n",
       "      <th>advance_payments</th>\n",
       "      <th>probability_of_full_payment</th>\n",
       "      <th>current_balance</th>\n",
       "      <th>credit_limit</th>\n",
       "      <th>min_payment_amt</th>\n",
       "      <th>max_spent_in_single_shopping</th>\n",
       "      <th>clusters</th>\n",
       "      <th>Frequency</th>\n",
       "    </tr>\n",
       "  </thead>\n",
       "  <tbody>\n",
       "    <tr>\n",
       "      <th>High Spenders</th>\n",
       "      <td>0</td>\n",
       "      <td>14.0</td>\n",
       "      <td>14.0</td>\n",
       "      <td>1.0</td>\n",
       "      <td>6.0</td>\n",
       "      <td>3.0</td>\n",
       "      <td>3.0</td>\n",
       "      <td>5.0</td>\n",
       "      <td>3.0</td>\n",
       "      <td>71</td>\n",
       "    </tr>\n",
       "    <tr>\n",
       "      <th>Mid Spenders</th>\n",
       "      <td>1</td>\n",
       "      <td>12.0</td>\n",
       "      <td>13.0</td>\n",
       "      <td>1.0</td>\n",
       "      <td>5.0</td>\n",
       "      <td>3.0</td>\n",
       "      <td>5.0</td>\n",
       "      <td>5.0</td>\n",
       "      <td>2.0</td>\n",
       "      <td>72</td>\n",
       "    </tr>\n",
       "    <tr>\n",
       "      <th>Low Spenders</th>\n",
       "      <td>2</td>\n",
       "      <td>18.0</td>\n",
       "      <td>16.0</td>\n",
       "      <td>1.0</td>\n",
       "      <td>6.0</td>\n",
       "      <td>4.0</td>\n",
       "      <td>4.0</td>\n",
       "      <td>6.0</td>\n",
       "      <td>1.0</td>\n",
       "      <td>67</td>\n",
       "    </tr>\n",
       "  </tbody>\n",
       "</table>\n",
       "</div>"
      ],
      "text/plain": [
       "               Clus_kmeans  spending  advance_payments  \\\n",
       "High Spenders            0      14.0              14.0   \n",
       "Mid Spenders             1      12.0              13.0   \n",
       "Low Spenders             2      18.0              16.0   \n",
       "\n",
       "               probability_of_full_payment  current_balance  credit_limit  \\\n",
       "High Spenders                          1.0              6.0           3.0   \n",
       "Mid Spenders                           1.0              5.0           3.0   \n",
       "Low Spenders                           1.0              6.0           4.0   \n",
       "\n",
       "               min_payment_amt  max_spent_in_single_shopping  clusters  \\\n",
       "High Spenders              3.0                           5.0       3.0   \n",
       "Mid Spenders               5.0                           5.0       2.0   \n",
       "Low Spenders               4.0                           6.0       1.0   \n",
       "\n",
       "               Frequency  \n",
       "High Spenders         71  \n",
       "Mid Spenders          72  \n",
       "Low Spenders          67  "
      ]
     },
     "execution_count": 53,
     "metadata": {},
     "output_type": "execute_result"
    }
   ],
   "source": [
    "round(df_clust,0).rename(index={0: \"High Spenders\", 1: \"Mid Spenders\", 2: \"Low Spenders\"})\n"
   ]
  },
  {
   "cell_type": "markdown",
   "metadata": {},
   "source": [
    "Now, let us compare the different clusters with the average values and try to interpret the problem."
   ]
  },
  {
   "cell_type": "markdown",
   "metadata": {},
   "source": [
    "## High Spenders \n",
    "High spenders can be easily distinguished based on the high spending history. As they are highest spenders in the room the bank / Lending institution can offer luxurious and exclusive privileges and discounts with top dining, hotel and nightlife establishments. Other privileges like higher welcome miles bonuses, higher miles per dollar earn rates, special concierge services like airport limousine transfers, expedited immigration clearance, complimentary access to airport lounges and even complimentary hotel room stays as they are considered as high-income earners."
   ]
  },
  {
   "cell_type": "markdown",
   "metadata": {},
   "source": [
    "## Mid Spenders  \n",
    "Basis data it was identified that in spite of being having the current balance equivalent to the High Spenders they have low credit limits. Financial institution can increase their Credit Limits and offer them offers based on giving them a target amount and if achieved given them Instant cash backs & Rewards on each penny spent. Also, they can give offers them EMI offers on purchase of online Electronics gadgets as it was also identified that They are the ones who do lower minimum payment. "
   ]
  },
  {
   "cell_type": "markdown",
   "metadata": {},
   "source": [
    "## Low Spenders \n",
    "Low Spenders are those who come under Middle Class. Who can be classified as low average spenders basis on their specific needs. As the they use credit cards for their specific needs like groceries purchases, Petrol pumps, Booking Movie Tickets, Booking Air Tickets. Lending Institution can give they offers on groceries purchases, Petrol pumps, Booking Movie Tickets, Booking Air Tickets, Online food Ordering Apps like Zomato, Swiggy, Food Panda, Faaso's, etc. Also in spite of having the credit limit same as Mid Spenders they are spending the lowest so giving ample offers for them would make sense. Also, data says that probability if full payment is 100%. \n",
    "As the data shows that they have done the highest advance payments & as they also have probability of full payment. \n"
   ]
  },
  {
   "cell_type": "markdown",
   "metadata": {},
   "source": [
    "## END"
   ]
  }
 ],
 "metadata": {
  "kernelspec": {
   "display_name": "Python 3",
   "language": "python",
   "name": "python3"
  },
  "language_info": {
   "codemirror_mode": {
    "name": "ipython",
    "version": 3
   },
   "file_extension": ".py",
   "mimetype": "text/x-python",
   "name": "python",
   "nbconvert_exporter": "python",
   "pygments_lexer": "ipython3",
   "version": "3.7.6"
  },
  "toc": {
   "base_numbering": 1,
   "nav_menu": {},
   "number_sections": true,
   "sideBar": true,
   "skip_h1_title": false,
   "title_cell": "Table of Contents",
   "title_sidebar": "Contents",
   "toc_cell": false,
   "toc_position": {},
   "toc_section_display": true,
   "toc_window_display": false
  },
  "varInspector": {
   "cols": {
    "lenName": 16,
    "lenType": 16,
    "lenVar": 40
   },
   "kernels_config": {
    "python": {
     "delete_cmd_postfix": "",
     "delete_cmd_prefix": "del ",
     "library": "var_list.py",
     "varRefreshCmd": "print(var_dic_list())"
    },
    "r": {
     "delete_cmd_postfix": ") ",
     "delete_cmd_prefix": "rm(",
     "library": "var_list.r",
     "varRefreshCmd": "cat(var_dic_list()) "
    }
   },
   "types_to_exclude": [
    "module",
    "function",
    "builtin_function_or_method",
    "instance",
    "_Feature"
   ],
   "window_display": false
  }
 },
 "nbformat": 4,
 "nbformat_minor": 2
}
